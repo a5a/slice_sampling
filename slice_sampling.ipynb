{
 "cells": [
  {
   "cell_type": "markdown",
   "metadata": {},
   "source": [
    "## Slice Sampling"
   ]
  },
  {
   "cell_type": "code",
   "execution_count": 1,
   "metadata": {
    "collapsed": true
   },
   "outputs": [],
   "source": [
    "import numpy as np\n",
    "import numpy.random as npr\n",
    "import pylab as plt\n",
    "from slice_sample import slice_sample as my_slice_sample"
   ]
  },
  {
   "cell_type": "code",
   "execution_count": 2,
   "metadata": {
    "code_folding": [],
    "collapsed": true
   },
   "outputs": [],
   "source": [
    "# Spearmint version\n",
    "def spearmint_slice_sample(init_x, logprob, sigma=1.0, step_out=True, max_steps_out=1000, \n",
    "                 compwise=False, verbose=False):\n",
    "    \"\"\"\n",
    "    Copied from https://github.com/JasperSnoek/spearmint/spearmint/spearmint/util.py\n",
    "    \"\"\"\n",
    "    def direction_slice(direction, init_x):\n",
    "        def dir_logprob(z):\n",
    "            return logprob(direction*z + init_x)\n",
    "    \n",
    "        upper = sigma*npr.rand()\n",
    "        lower = upper - sigma\n",
    "        llh_s = np.log(npr.rand()) + dir_logprob(0.0)\n",
    "    \n",
    "        l_steps_out = 0\n",
    "        u_steps_out = 0\n",
    "        if step_out:\n",
    "            while dir_logprob(lower) > llh_s and l_steps_out < max_steps_out:\n",
    "                l_steps_out += 1\n",
    "                lower       -= sigma\n",
    "            while dir_logprob(upper) > llh_s and u_steps_out < max_steps_out:\n",
    "                u_steps_out += 1\n",
    "                upper       += sigma\n",
    "            \n",
    "        steps_in = 0\n",
    "        while True:\n",
    "            steps_in += 1\n",
    "            new_z     = (upper - lower)*npr.rand() + lower\n",
    "            new_llh   = dir_logprob(new_z)\n",
    "            if np.isnan(new_llh):\n",
    "                print( new_z, direction*new_z + init_x, new_llh, llh_s, init_x, logprob(init_x))\n",
    "                raise Exception(\"Slice sampler got a NaN\")\n",
    "            if new_llh > llh_s:\n",
    "                break\n",
    "            elif new_z < 0:\n",
    "                lower = new_z\n",
    "            elif new_z > 0:\n",
    "                upper = new_z\n",
    "            else:\n",
    "                raise Exception(\"Slice sampler shrank to zero!\")\n",
    "\n",
    "        if verbose:\n",
    "            print( \"Steps Out:\", l_steps_out, u_steps_out, \" Steps In:\", steps_in)\n",
    "\n",
    "        return new_z*direction + init_x\n",
    "    \n",
    "    if not init_x.shape:\n",
    "        init_x = np.array([init_x])\n",
    "\n",
    "    dims = init_x.shape[0]\n",
    "    if compwise:\n",
    "        ordering = range(dims)\n",
    "        npr.shuffle(ordering)\n",
    "        cur_x = init_x.copy()\n",
    "        for d in ordering:\n",
    "            direction    = np.zeros((dims))\n",
    "            direction[d] = 1.0\n",
    "            cur_x = direction_slice(direction, cur_x)\n",
    "        return cur_x\n",
    "            \n",
    "    else:\n",
    "        direction = npr.randn(dims)\n",
    "        direction = direction / np.sqrt(np.sum(direction**2))\n",
    "        return direction_slice(direction, init_x)"
   ]
  },
  {
   "cell_type": "code",
   "execution_count": 3,
   "metadata": {
    "collapsed": true
   },
   "outputs": [],
   "source": [
    "def f(t):\n",
    "    return t * np.sin(3*t) * np.exp(-t)\n",
    "def f_2d(x):\n",
    "    return (np.sin(1.5*x[0]/np.pi)**2 + np.cos(1.5*x[1]/np.pi)**2)\n",
    "\n",
    "sd = 1\n",
    "n_samples = 100"
   ]
  },
  {
   "cell_type": "code",
   "execution_count": 4,
   "metadata": {
    "collapsed": false
   },
   "outputs": [
    {
     "name": "stdout",
     "output_type": "stream",
     "text": [
      "True\n"
     ]
    },
    {
     "data": {
      "text/plain": [
       "<matplotlib.text.Text at 0x10f252748>"
      ]
     },
     "execution_count": 4,
     "metadata": {},
     "output_type": "execute_result"
    },
    {
     "data": {
      "image/png": "[encoded data removed]",
      "text/plain": [
       "<matplotlib.figure.Figure at 0x10bdea7b8>"
      ]
     },
     "metadata": {},
     "output_type": "display_data"
    }
   ],
   "source": [
    "# 1D\n",
    "np.random.seed(sd)\n",
    "spearmint_samples = np.array([spearmint_slice_sample(np.array([1]), f) for _ in range(n_samples)])\n",
    "np.random.seed(sd)\n",
    "my_samples = np.array([my_slice_sample(np.array([1]), f) for _ in range(n_samples)])\n",
    "print(np.allclose(spearmint_samples, my_samples))\n",
    "_ = plt.hist(my_samples, bins=25)\n",
    "plt.title(\"Samples drawn from f()\")"
   ]
  },
  {
   "cell_type": "code",
   "execution_count": 5,
   "metadata": {
    "collapsed": false
   },
   "outputs": [
    {
     "name": "stdout",
     "output_type": "stream",
     "text": [
      "True\n"
     ]
    }
   ],
   "source": [
    "# 2D\n",
    "np.random.seed(sd)\n",
    "spearmint_samples = np.array([spearmint_slice_sample(np.array([1, 1]), f_2d) for _ in range(n_samples)])\n",
    "np.random.seed(sd)\n",
    "my_samples = np.array([my_slice_sample(np.array([1, 1]), f_2d) for _ in range(n_samples)])\n",
    "print(np.allclose(spearmint_samples, my_samples))"
   ]
  },
  {
   "cell_type": "code",
   "execution_count": 6,
   "metadata": {
    "collapsed": false
   },
   "outputs": [
    {
     "name": "stdout",
     "output_type": "stream",
     "text": [
      "[]\n",
      "[]\n"
     ]
    },
    {
     "data": {
      "image/png": "[encoded data removed]",
      "text/plain": [
       "<matplotlib.figure.Figure at 0x10f287358>"
      ]
     },
     "metadata": {},
     "output_type": "display_data"
    }
   ],
   "source": [
    "# now with the constraints\n",
    "bounds = np.array([[0.6, 2.5]])\n",
    "my_samples = np.array([my_slice_sample(np.array([1]), f, bounds=bounds) for _ in range(n_samples)])\n",
    "_ = plt.hist(my_samples, bins=25)\n",
    "plt.title(\"Samples drawn from f() with constraints\")\n",
    "\n",
    "# whether any samples lie outside the defined constraints\n",
    "print(my_samples[my_samples<bounds[0,0]])\n",
    "print(my_samples[my_samples>bounds[0,1]])"
   ]
  },
  {
   "cell_type": "code",
   "execution_count": null,
   "metadata": {
    "collapsed": true
   },
   "outputs": [],
   "source": []
  }
 ],
 "metadata": {
  "kernelspec": {
   "display_name": "Python [py3]",
   "language": "python",
   "name": "Python [py3]"
  },
  "language_info": {
   "codemirror_mode": {
    "name": "ipython",
    "version": 3
   },
   "file_extension": ".py",
   "mimetype": "text/x-python",
   "name": "python",
   "nbconvert_exporter": "python",
   "pygments_lexer": "ipython3",
   "version": "3.6.1"
  }
 },
 "nbformat": 4,
 "nbformat_minor": 0
}
